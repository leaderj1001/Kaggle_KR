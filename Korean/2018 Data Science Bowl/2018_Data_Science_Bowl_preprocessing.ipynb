{
 "cells": [
  {
   "cell_type": "markdown",
   "metadata": {},
   "source": [
    "# Intro"
   ]
  },
  {
   "cell_type": "markdown",
   "metadata": {},
   "source": [
    "안녕하세요! 빠르고 더러운 커널은 Keras를 사용해서 어떻게 핵을 segmentation하는지 시작하는 방법을 보여줍니다.<br>\n",
    "Hello! This rather quick and dirty kernel shows how to get started on segmenting nuclei using a neural network in Keras.\n",
    "\n",
    "'U-Net'이라는 구조를 사용하였고, 'U-Net'은 이미지 segmentation 분야에서 가장 유명합니다. 작은 데이터 셋에서도 잘 동작하는 구조라고 생각합니다.<br>\n",
    "이번 Kernel에서는 'U-Net'을 사용해서 구현을 하였지만 제가 번역을 하면서 다른 network 구조를 사용하면 더 좋은 결과를 얻을 수 있지 않을까 하여 'DeepLabv3+' 구조를 사용하였습니다.<br>\n",
    "The architecture used is the so-called U-Net, which is very common for image segmentation problems such as this. I believe they also have a tendency to work quite well even on small datasets.\n",
    "\n",
    "필요한 모든 것을 가져옵시다!<br>\n",
    "Let's get started importing everything we need!"
   ]
  },
  {
   "cell_type": "code",
   "execution_count": 8,
   "metadata": {},
   "outputs": [],
   "source": [
    "import os\n",
    "import sys\n",
    "import random\n",
    "import warnings\n",
    "\n",
    "import numpy as np\n",
    "import pandas as pd\n",
    "\n",
    "import matplotlib.pyplot as plt\n",
    "\n",
    "from tqdm import tqdm\n",
    "from itertools import chain\n",
    "from skimage.io import imread, imshow, imread_collection, concatenate_images\n",
    "from skimage.transform import resize\n",
    "from skimage.morphology import label\n",
    "\n",
    "from keras.models import Model, load_model\n",
    "from keras.layers import Input\n",
    "from keras.layers.core import Dropout, Lambda\n",
    "from keras.layers.convolutional import Conv2D, Conv2DTranspose\n",
    "from keras.layers.pooling import MaxPooling2D\n",
    "from keras.layers.merge import concatenate\n",
    "from keras.callbacks import EarlyStopping, ModelCheckpoint\n",
    "from keras import backend as K\n",
    "\n",
    "import tensorflow as tf\n",
    "\n",
    "# Set some parameters\n",
    "IMG_WIDTH = 256\n",
    "IMG_HEIGHT = 256\n",
    "IMG_CHANNELS = 3\n",
    "TRAIN_PATH = './input/stage1_train/'\n",
    "TEST_PATH = './input/stage1_test/'\n",
    "\n",
    "warnings.filterwarnings('ignore', category=UserWarning, module='skimage')\n",
    "seed = 42\n",
    "random.seed = seed\n",
    "np.random.seed = seed"
   ]
  },
  {
   "cell_type": "code",
   "execution_count": 9,
   "metadata": {},
   "outputs": [],
   "source": [
    "# Get train and test IDs\n",
    "train_ids = next(os.walk(TRAIN_PATH))[1]\n",
    "test_ids = next(os.walk(TEST_PATH))[1]"
   ]
  },
  {
   "cell_type": "markdown",
   "metadata": {},
   "source": [
    "# Get the data"
   ]
  },
  {
   "cell_type": "markdown",
   "metadata": {},
   "source": [
    " 첫 번째로 이미지와 관련된 마스크를 가져와봅시다. training images와 test images를 관리하기 쉽고 가볍게 하기 위해서 다운 샘플링하지만 우리는 정확한 run-length encodings을 생성하고 predicted masks를 upsample하기 위해서 test images의 원래 사이즈를 기록해둬야합니다.<br>\n",
    " Let's first import all the images and associated masks. I downsample both the training and test images to keep things light and manageable, but we need to keep a record of the original sizes of the test images to upsample our predicted masks and create correct run-length encodings later on. There are definitely better ways to handle this, but it works fine for now! "
   ]
  },
  {
   "cell_type": "code",
   "execution_count": 10,
   "metadata": {},
   "outputs": [
    {
     "name": "stdout",
     "output_type": "stream",
     "text": [
      "Getting and resizing train images and masks ... \n"
     ]
    },
    {
     "name": "stderr",
     "output_type": "stream",
     "text": [
      "100%|████████████████████████████████████████████████████████████████████████████████| 670/670 [02:05<00:00,  5.35it/s]\n"
     ]
    },
    {
     "name": "stdout",
     "output_type": "stream",
     "text": [
      "Getting and resizing test images ... \n"
     ]
    },
    {
     "name": "stderr",
     "output_type": "stream",
     "text": [
      "100%|██████████████████████████████████████████████████████████████████████████████████| 65/65 [00:00<00:00, 65.07it/s]\n"
     ]
    },
    {
     "name": "stdout",
     "output_type": "stream",
     "text": [
      "Done!\n"
     ]
    }
   ],
   "source": [
    "# Get and resize train images and masks\n",
    "X_train = np.zeros((len(train_ids), IMG_HEIGHT, IMG_WIDTH, IMG_CHANNELS), dtype=np.uint8)\n",
    "Y_train = np.zeros((len(train_ids), IMG_HEIGHT, IMG_WIDTH, 1), dtype=np.bool)\n",
    "print('Getting and resizing train images and masks ... ')\n",
    "sys.stdout.flush()\n",
    "for n, id_ in tqdm(enumerate(train_ids), total=len(train_ids)):\n",
    "    path = TRAIN_PATH + id_\n",
    "    img = imread(path + '/images/' + id_ + '.png')[:,:,:IMG_CHANNELS]\n",
    "    img = resize(img, (IMG_HEIGHT, IMG_WIDTH), mode='constant', preserve_range=True)\n",
    "    X_train[n] = img\n",
    "    mask = np.zeros((IMG_HEIGHT, IMG_WIDTH, 1), dtype=np.bool)\n",
    "    for mask_file in next(os.walk(path + '/masks/'))[2]:\n",
    "        mask_ = imread(path + '/masks/' + mask_file)\n",
    "        mask_ = np.expand_dims(resize(mask_, (IMG_HEIGHT, IMG_WIDTH), mode='constant', \n",
    "                                      preserve_range=True), axis=-1)\n",
    "        mask = np.maximum(mask, mask_)\n",
    "    Y_train[n] = mask\n",
    "\n",
    "# Get and resize test images\n",
    "X_test = np.zeros((len(test_ids), IMG_HEIGHT, IMG_WIDTH, IMG_CHANNELS), dtype=np.uint8)\n",
    "sizes_test = []\n",
    "print('Getting and resizing test images ... ')\n",
    "sys.stdout.flush()\n",
    "for n, id_ in tqdm(enumerate(test_ids), total=len(test_ids)):\n",
    "    path = TEST_PATH + id_\n",
    "    img = imread(path + '/images/' + id_ + '.png')[:,:,:IMG_CHANNELS]\n",
    "    sizes_test.append([img.shape[0], img.shape[1]])\n",
    "    img = resize(img, (IMG_HEIGHT, IMG_WIDTH), mode='constant', preserve_range=True)\n",
    "    X_test[n] = img\n",
    "\n",
    "print('Done!')"
   ]
  },
  {
   "cell_type": "markdown",
   "metadata": {},
   "source": [
    "불러온 데이터의 images와 masks의 그림으로 확인해봅시다.<br>\n",
    "Let's see if things look all right by drawing some random images and their associated masks."
   ]
  },
  {
   "cell_type": "code",
   "execution_count": 6,
   "metadata": {},
   "outputs": [
    {
     "name": "stderr",
     "output_type": "stream",
     "text": [
      "C:\\Users\\myeongjun\\Anaconda3\\envs\\Python\\lib\\site-packages\\skimage\\io\\_plugins\\matplotlib_plugin.py:51: FutureWarning: Conversion of the second argument of issubdtype from `float` to `np.floating` is deprecated. In future, it will be treated as `np.float64 == np.dtype(float).type`.\n",
      "  out_of_range_float = (np.issubdtype(image.dtype, np.float) and\n",
      "C:\\Users\\myeongjun\\Anaconda3\\envs\\Python\\lib\\site-packages\\matplotlib\\axes\\_base.py:1400: MatplotlibDeprecationWarning: The 'box-forced' keyword argument is deprecated since 2.2.\n",
      "  \" since 2.2.\", cbook.mplDeprecation)\n"
     ]
    },
    {
     "data": {
      "image/png": "[encoded data removed]",
      "text/plain": [
       "<Figure size 432x288 with 1 Axes>"
      ]
     },
     "metadata": {},
     "output_type": "display_data"
    },
    {
     "data": {
      "image/png": "[encoded data removed]",
      "text/plain": [
       "<Figure size 432x288 with 1 Axes>"
      ]
     },
     "metadata": {},
     "output_type": "display_data"
    }
   ],
   "source": [
    "# Check if training data looks all right\n",
    "ix = random.randint(0, len(train_ids))\n",
    "imshow(X_train[ix])\n",
    "plt.show()\n",
    "imshow(np.squeeze(Y_train[ix]))\n",
    "plt.show()"
   ]
  },
  {
   "cell_type": "markdown",
   "metadata": {},
   "source": [
    "# Create our Keras metric"
   ]
  },
  {
   "cell_type": "markdown",
   "metadata": {},
   "source": [
    "이제 mean average precision을 정의하기 위해서 Keras에 있는 intersection over union(IoU)를 이용할 것입니다. 이미 Tensorflow에서 IoU metric을 지원하지만 tensorflow에서 제공하는 것은 여러 thresholds에 대한 기능은 지원하지 않습니다. 따라서 저는 그것을 구현해서 사용하였습니다.<br>\n",
    "현재 구현한 것이 정확하다고는 말 못하겠습니다. 어떠한 도움도 환영입니다.<br>\n",
    "Now we try to define the mean average precision at different intersection over union (IoU) thresholds metric in Keras. TensorFlow has a mean IoU metric, but it doesn't have any native support for the mean over multiple thresholds, so I tried to implement this. I'm by no means certain that this implementation is correct, though! Any assistance in verifying this would be most welcome!\n",
    "\n",
    "업데이트: 구현한 코드는 여기서 확인되는 결과와 LeaderBoard 결과 간 차이가 너무 크기 때문에 정확하지 않습니다. 그것은 아무리 training해도 증가하는 것 처럼 보일 것입니다.<br>\n",
    "Update: This implementation is most definitely not correct due to the very large discrepancy between the results reported here and the LB results. It also seems to just increase over time no matter what when you train ..."
   ]
  },
  {
   "cell_type": "code",
   "execution_count": 11,
   "metadata": {},
   "outputs": [],
   "source": [
    "# Define IoU metric\n",
    "def mean_iou(y_true, y_pred):\n",
    "    prec = []\n",
    "    for t in np.arange(0.5, 1.0, 0.05):\n",
    "        y_pred_ = tf.to_int32(y_pred > t)\n",
    "        score, up_opt = tf.metrics.mean_iou(y_true, y_pred_, 2)\n",
    "        K.get_session().run(tf.local_variables_initializer())\n",
    "        with tf.control_dependencies([up_opt]):\n",
    "            score = tf.identity(score)\n",
    "        prec.append(score)\n",
    "    return K.mean(K.stack(prec), axis=0)"
   ]
  },
  {
   "cell_type": "markdown",
   "metadata": {},
   "source": [
    "# Build and train our neural network"
   ]
  },
  {
   "cell_type": "markdown",
   "metadata": {},
   "source": [
    "다음으로 DeepLabv3+의 network architecture를 만들도록 하겠습니다. DeepLabv3+는 현재 State-of-the-art의 성능을 보이고 있으며 2018 ECCV에 publish되었습니다."
   ]
  },
  {
   "cell_type": "markdown",
   "metadata": {},
   "source": [
    "## Atrous Convolution\n",
    "\n",
    "Atrous convolution은 기존 convolution과는 다르게 filter 내부에 빈 공간을 둔 채로 작동하게 됩니다. 얼마나 빈 공간을 둘 지를 결정하는 parameter를 통해서 parameter값이 클수록 빈 공간이 넓어지게 됩니다.\n",
    "\n",
    "Atrous convolution을 사용하면 기존 convolution과 동일한 양의 parameter와 계산량을 유지하면서 receptive field를 크게 가져갈 수 있게 됩니다. 보통 segmentation에서는 receptive field 크기가 중요하게 작용하는데 Atrous convolution을 사용하게 되면 parameter 수를 늘리지 않고 receptive field를 크게 할 수 있기 때문에 DeepLab 모델에서 사용하고 있습니다."
   ]
  },
  {
   "cell_type": "markdown",
   "metadata": {},
   "source": [
    "## Spatial Pyramid Pooling\n",
    "\n",
    "segmentation 성능을 높이기 위한 방법 중 하나로, spatial pyramid pooling 기법이 자주 활용됩니다. 기존 CNN에서 자동차나 등대는 crop 후 고정된 크기로 변경되어 covolution층에 입력됩니다. 이것은 fully connected layer가 항상 고정된 feature map을 요구하기 때문입니다. 하지만 Spatial Pyramid Pooling을 사용하면 feature map의 크기가 달라져도 Spatial Pyramid Pooling에 의해 고정된 특징 추출이 가능합니다."
   ]
  },
  {
   "cell_type": "markdown",
   "metadata": {},
   "source": [
    "## Depthwise Separable Convolution\n",
    "\n",
    "예를 들어 입력 이미지가 10x10x3 이고, convolution filter size가 3x3이라 했을 때 filter 한 개가 가지는 파라미터 수는 3x3x3 = 27(input channel이 3이기 때문에 마지막에 3을 곱해주었습니다.)이 됩니다. 만약 filter가 5개가 존재한다면, 모든 parameter 수는 3x3x3x5 만큼을 가지게 됩니다.<br><br>\n",
    "\n",
    "이렇게 되면 너무 많은 parameter를 가지게 되고 연산량 또한 증가하게 됩니다. 따라서 입력 이미지의 channel을 분리시킨 뒤, channel을 항상 1로 가지는 여러 개의 convolution filter로 바꾼 연산이 depthwise separable convolution입니다.<br><br>\n",
    "\n",
    "따라서, 예를 들어 parameter의 개수를 비교해보면 입력 이미지가 10x10x3이고 5개의 3x3 convolution filter를 적용하는 경우를 생각해봅시다.<br>\n",
    "**기존 convolution**: 3x3x3x5(3x3 filter를 사용하고, input channel이 3이고, output channel이 5이기 때문입니다.) 총 135개의 parameter가 생깁니다.<br>\n",
    "**Depthwise Separable Convolution**: 처음 입력 이미지의 channel을 나누어 convolution 계산을 하기 때문에 3x3x3의 parameter가 사용이 되고, 이후 (1x1xoutput channel)를 input channel 개수 만큼의 convolution 연산을 해주기 때문에 3x5가 됩니다. 따라서 총 parameter 개수는 27 + 15 = 42가 됩니다.<br><br>\n",
    "\n",
    "결과적으로, Depthwise Separable Convolution을 사용하게 되면서 parameter의 수를 줄일 수 있으므로 더 깊은 구조로 확장하거나 기존 대비 메모리 사용량 감소와 속도 향상의 효과를 볼 수 있습니다."
   ]
  },
  {
   "cell_type": "markdown",
   "metadata": {},
   "source": [
    "## DeepLab V3+\n",
    "\n",
    "이번 DeepLab V3+는 기존에 있던 DeepLab V3에서 약간의 변화를 주었습니다. 먼저 ResNet을 사용하고 있던 Encoder 부분에서 Depthwise Separable Convolution을 활용한 Xception구조로 대체하였습니다.<br>\n",
    "또한, Multi-scale context를 얻기 위해서 사용되고 있던 ASPP(Atrous Spatial Pyramid Pooling)에서 separable convolution과 atrous convolution을 결합한 것을 사용하였습니다.<br>\n",
    "마지막으로, 단순히 upsampling으로 해결했던 decoder 부분을 U-Net과 유사한 형태로 바꾸었습니다."
   ]
  },
  {
   "cell_type": "code",
   "execution_count": null,
   "metadata": {},
   "outputs": [],
   "source": []
  }
 ],
 "metadata": {
  "kernelspec": {
   "display_name": "Python 3",
   "language": "python",
   "name": "python3"
  },
  "language_info": {
   "codemirror_mode": {
    "name": "ipython",
    "version": 3
   },
   "file_extension": ".py",
   "mimetype": "text/x-python",
   "name": "python",
   "nbconvert_exporter": "python",
   "pygments_lexer": "ipython3",
   "version": "3.5.5"
  }
 },
 "nbformat": 4,
 "nbformat_minor": 2
}
